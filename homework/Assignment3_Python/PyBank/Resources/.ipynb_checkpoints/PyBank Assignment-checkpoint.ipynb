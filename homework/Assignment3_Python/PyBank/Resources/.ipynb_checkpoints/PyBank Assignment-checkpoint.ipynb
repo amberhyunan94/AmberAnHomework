{
 "cells": [
  {
   "cell_type": "code",
   "execution_count": 44,
   "metadata": {},
   "outputs": [
    {
     "name": "stdout",
     "output_type": "stream",
     "text": [
      "<_csv.reader object at 0x10ca2ce50>\n"
     ]
    }
   ],
   "source": [
    "import os\n",
    "import csv\n",
    "csvpath = os.path.join('..','Resources', 'budget_data.csv')\n",
    "with open(csvpath) as csvfile:\n",
    "    csvreader = csv.reader(csvfile,delimiter=',')\n",
    "    print(csvreader)"
   ]
  },
  {
   "cell_type": "code",
   "execution_count": 45,
   "metadata": {},
   "outputs": [
    {
     "name": "stdout",
     "output_type": "stream",
     "text": [
      "<_csv.reader object at 0x10ca2ced0>\n",
      "CSV Header: ['Date', 'Profit/Losses']\n",
      "Jan-2010\n",
      "Feb-2010\n",
      "Mar-2010\n",
      "Apr-2010\n",
      "May-2010\n",
      "Jun-2010\n",
      "Jul-2010\n",
      "Aug-2010\n",
      "Sep-2010\n",
      "Oct-2010\n",
      "Nov-2010\n",
      "Dec-2010\n",
      "Jan-2011\n",
      "Feb-2011\n",
      "Mar-2011\n",
      "Apr-2011\n",
      "May-2011\n",
      "Jun-2011\n",
      "Jul-2011\n",
      "Aug-2011\n",
      "Sep-2011\n",
      "Oct-2011\n",
      "Nov-2011\n",
      "Dec-2011\n",
      "Jan-2012\n",
      "Feb-2012\n",
      "Mar-2012\n",
      "Apr-2012\n",
      "May-2012\n",
      "Jun-2012\n",
      "Jul-2012\n",
      "Aug-2012\n",
      "Sep-2012\n",
      "Oct-2012\n",
      "Nov-2012\n",
      "Dec-2012\n",
      "Jan-2013\n",
      "Feb-2013\n",
      "Mar-2013\n",
      "Apr-2013\n",
      "May-2013\n",
      "Jun-2013\n",
      "Jul-2013\n",
      "Aug-2013\n",
      "Sep-2013\n",
      "Oct-2013\n",
      "Nov-2013\n",
      "Dec-2013\n",
      "Jan-2014\n",
      "Feb-2014\n",
      "Mar-2014\n",
      "Apr-2014\n",
      "May-2014\n",
      "Jun-2014\n",
      "Jul-2014\n",
      "Aug-2014\n",
      "Sep-2014\n",
      "Oct-2014\n",
      "Nov-2014\n",
      "Dec-2014\n",
      "Jan-2015\n",
      "Feb-2015\n",
      "Mar-2015\n",
      "Apr-2015\n",
      "May-2015\n",
      "Jun-2015\n",
      "Jul-2015\n",
      "Aug-2015\n",
      "Sep-2015\n",
      "Oct-2015\n",
      "Nov-2015\n",
      "Dec-2015\n",
      "Jan-2016\n",
      "Feb-2016\n",
      "Mar-2016\n",
      "Apr-2016\n",
      "May-2016\n",
      "Jun-2016\n",
      "Jul-2016\n",
      "Aug-2016\n",
      "Sep-2016\n",
      "Oct-2016\n",
      "Nov-2016\n",
      "Dec-2016\n",
      "Jan-2017\n",
      "Feb-2017\n"
     ]
    }
   ],
   "source": [
    "import os\n",
    "import csv\n",
    "\n",
    "csvpath = os.path.join('..','Resources', 'budget_data.csv')\n",
    "with open(csvpath) as csvfile:\n",
    "    csvreader = csv.reader(csvfile,delimiter=',')\n",
    "    print(csvreader)\n",
    "    csv_header = next(csvreader)\n",
    "    print(f\"CSV Header: {csv_header}\")\n",
    "    for row in csvreader:\n",
    "       print(row[0])\n",
    "        \n",
    "        "
   ]
  },
  {
   "cell_type": "code",
   "execution_count": 47,
   "metadata": {},
   "outputs": [
    {
     "name": "stdout",
     "output_type": "stream",
     "text": [
      "<_csv.reader object at 0x10ca2ced0>\n",
      "CSV Header: ['Date', 'Profit/Losses']\n",
      "1\n",
      "2\n",
      "3\n",
      "4\n",
      "5\n",
      "6\n",
      "7\n",
      "8\n",
      "9\n",
      "10\n",
      "11\n",
      "12\n",
      "13\n",
      "14\n",
      "15\n",
      "16\n",
      "17\n",
      "18\n",
      "19\n",
      "20\n",
      "21\n",
      "22\n",
      "23\n",
      "24\n",
      "25\n",
      "26\n",
      "27\n",
      "28\n",
      "29\n",
      "30\n",
      "31\n",
      "32\n",
      "33\n",
      "34\n",
      "35\n",
      "36\n",
      "37\n",
      "38\n",
      "39\n",
      "40\n",
      "41\n",
      "42\n",
      "43\n",
      "44\n",
      "45\n",
      "46\n",
      "47\n",
      "48\n",
      "49\n",
      "50\n",
      "51\n",
      "52\n",
      "53\n",
      "54\n",
      "55\n",
      "56\n",
      "57\n",
      "58\n",
      "59\n",
      "60\n",
      "61\n",
      "62\n",
      "63\n",
      "64\n",
      "65\n",
      "66\n",
      "67\n",
      "68\n",
      "69\n",
      "70\n",
      "71\n",
      "72\n",
      "73\n",
      "74\n",
      "75\n",
      "76\n",
      "77\n",
      "78\n",
      "79\n",
      "80\n",
      "81\n",
      "82\n",
      "83\n",
      "84\n",
      "85\n",
      "86\n"
     ]
    }
   ],
   "source": [
    "import os\n",
    "import csv\n",
    "\n",
    "csvpath = os.path.join('..','Resources', 'budget_data.csv')\n",
    "with open(csvpath) as csvfile:\n",
    "    csvreader = csv.reader(csvfile,delimiter=',')\n",
    "    print(csvreader)\n",
    "    csv_header = next(csvreader)\n",
    "    print(f\"CSV Header: {csv_header}\")\n",
    "    month_counter = 0\n",
    "    for row in csvreader:\n",
    "        month_counter += 1\n",
    "        print(month_counter)"
   ]
  },
  {
   "cell_type": "code",
   "execution_count": 76,
   "metadata": {},
   "outputs": [
    {
     "name": "stdout",
     "output_type": "stream",
     "text": [
      "<_csv.reader object at 0x10ca63cd0>\n",
      "CSV Header: ['Date', 'Profit/Losses']\n",
      "Feb-2017,671099\n",
      "\n"
     ]
    }
   ],
   "source": [
    "import os\n",
    "import csv\n",
    "\n",
    "csvpath = os.path.join('..','Resources', 'budget_data.csv')\n",
    "with open(csvpath) as csvfile:\n",
    "    csvreader = csv.reader(csvfile,delimiter=',')\n",
    "    print(csvreader)\n",
    "    csv_header = next(csvreader)\n",
    "    print(f\"CSV Header: {csv_header}\")\n",
    "    month_counter = 0\n",
    "    for row in csvreader:\n",
    "        month_counter += 1\n",
    "with open(csvpath) as csvfile:\n",
    "    last_line = csvfile.readlines()[-1]\n",
    "    print(last_line)"
   ]
  },
  {
   "cell_type": "code",
   "execution_count": 75,
   "metadata": {},
   "outputs": [
    {
     "name": "stdout",
     "output_type": "stream",
     "text": [
      "[1, 3]\n"
     ]
    }
   ],
   "source": [
    "count = 0\n",
    "indices = []\n",
    "aList = [123, 'xyz', 'zara','xyz', 'abc'];\n",
    "for i in range(0,len(aList)):\n",
    "    if 'xyz' == aList[i]:\n",
    "        indices.append(i)\n",
    "print(indices)"
   ]
  },
  {
   "cell_type": "code",
   "execution_count": 86,
   "metadata": {},
   "outputs": [
    {
     "name": "stdout",
     "output_type": "stream",
     "text": [
      "<_csv.reader object at 0x10ca2ced0>\n",
      "CSV Header: ['Date', 'Profit/Losses']\n"
     ]
    },
    {
     "ename": "TypeError",
     "evalue": "'int' object is not subscriptable",
     "output_type": "error",
     "traceback": [
      "\u001b[0;31m---------------------------------------------------------------------------\u001b[0m",
      "\u001b[0;31mTypeError\u001b[0m                                 Traceback (most recent call last)",
      "\u001b[0;32m<ipython-input-86-9dd4333972e7>\u001b[0m in \u001b[0;36m<module>\u001b[0;34m\u001b[0m\n\u001b[1;32m     14\u001b[0m         \u001b[0mmonth_counter\u001b[0m \u001b[0;34m+=\u001b[0m \u001b[0;36m1\u001b[0m\u001b[0;34m\u001b[0m\u001b[0;34m\u001b[0m\u001b[0m\n\u001b[1;32m     15\u001b[0m     \u001b[0;32mfor\u001b[0m \u001b[0mi\u001b[0m \u001b[0;32min\u001b[0m \u001b[0;34m(\u001b[0m\u001b[0;36m0\u001b[0m\u001b[0;34m,\u001b[0m\u001b[0mlast_line\u001b[0m\u001b[0;34m)\u001b[0m\u001b[0;34m:\u001b[0m\u001b[0;34m\u001b[0m\u001b[0;34m\u001b[0m\u001b[0m\n\u001b[0;32m---> 16\u001b[0;31m         \u001b[0;32mif\u001b[0m \u001b[0;34m'Feb-2017'\u001b[0m \u001b[0;34m==\u001b[0m \u001b[0mmonth_counter\u001b[0m\u001b[0;34m[\u001b[0m\u001b[0mi\u001b[0m\u001b[0;34m]\u001b[0m\u001b[0;34m:\u001b[0m\u001b[0;34m\u001b[0m\u001b[0;34m\u001b[0m\u001b[0m\n\u001b[0m\u001b[1;32m     17\u001b[0m             \u001b[0mtotal_months\u001b[0m\u001b[0;34m.\u001b[0m\u001b[0mappend\u001b[0m\u001b[0;34m(\u001b[0m\u001b[0mi\u001b[0m\u001b[0;34m)\u001b[0m\u001b[0;34m\u001b[0m\u001b[0;34m\u001b[0m\u001b[0m\n\u001b[1;32m     18\u001b[0m         \u001b[0mprint\u001b[0m\u001b[0;34m(\u001b[0m\u001b[0mtotal_months\u001b[0m\u001b[0;34m)\u001b[0m\u001b[0;34m\u001b[0m\u001b[0;34m\u001b[0m\u001b[0m\n",
      "\u001b[0;31mTypeError\u001b[0m: 'int' object is not subscriptable"
     ]
    }
   ],
   "source": [
    "import os\n",
    "import csv\n",
    "\n",
    "csvpath = os.path.join('..','Resources', 'budget_data.csv')\n",
    "with open(csvpath) as csvfile:\n",
    "    csvreader = csv.reader(csvfile,delimiter=',')\n",
    "    print(csvreader)\n",
    "    csv_header = next(csvreader)\n",
    "    print(f\"CSV Header: {csv_header}\")\n",
    "    last_line = csvfile.readlines()[-1]\n",
    "    month_counter = 0\n",
    "    total_months = []\n",
    "    for row in csvreader:\n",
    "        month_counter += 1\n",
    "    for i in (0,last_line):\n",
    "        if 'Feb-2017' == month_counter[i]:\n",
    "            total_months.append(i)\n",
    "        print(total_months)"
   ]
  },
  {
   "cell_type": "code",
   "execution_count": null,
   "metadata": {},
   "outputs": [],
   "source": []
  }
 ],
 "metadata": {
  "kernelspec": {
   "display_name": "Python 3",
   "language": "python",
   "name": "python3"
  },
  "language_info": {
   "codemirror_mode": {
    "name": "ipython",
    "version": 3
   },
   "file_extension": ".py",
   "mimetype": "text/x-python",
   "name": "python",
   "nbconvert_exporter": "python",
   "pygments_lexer": "ipython3",
   "version": "3.7.4"
  }
 },
 "nbformat": 4,
 "nbformat_minor": 2
}
