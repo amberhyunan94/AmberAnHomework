{
 "cells": [
  {
   "cell_type": "code",
   "execution_count": 27,
   "metadata": {},
   "outputs": [
    {
     "name": "stdout",
     "output_type": "stream",
     "text": [
      "Election Results\n",
      "--------------------------\n",
      "Total Votes: 3521001\n",
      "Khan: 63.00001050837531% (2218231)\n",
      "Correy: 19.999994319797125% (704200)\n",
      "Li: 13.999996023857989% (492940)\n",
      "O'Tooley: 2.999999147969569% (105630)\n",
      "---------------------------\n",
      "Winner: Khan\n",
      "---------------------------\n"
     ]
    }
   ],
   "source": [
    "import os\n",
    "import csv\n",
    "\n",
    "election_data = 'election_data.csv'\n",
    "csvpath = os.path.join('..','Resources',election_data)\n",
    "\n",
    "#setting up counter and variables\n",
    "candidates = []\n",
    "num_votes = 0\n",
    "vote_counts = []\n",
    "\n",
    "#open the file & skip header\n",
    "with open(csvpath,newline=\"\") as csvfile:\n",
    "    csvreader = csv.reader(csvfile)\n",
    "    csvheader = next(csvreader)\n",
    "    \n",
    "#read row by row in file\n",
    "    for row in csvreader:\n",
    "        \n",
    "#add to total number of votes\n",
    "        num_votes = num_votes + 1\n",
    "#candidate voted for\n",
    "        candidate = row[2]\n",
    "\n",
    "        #if candidate has other votes then add to vote tally else create new spot in list for candidate\n",
    "        if candidate in candidates:\n",
    "            candidate_index = candidates.index(candidate)\n",
    "            vote_counts[candidate_index] = vote_counts[candidate_index] + 1\n",
    "        else:\n",
    "            candidates.append(candidate)\n",
    "            vote_counts.append(1)\n",
    "\n",
    "percentages = []\n",
    "max_votes = vote_counts[0]\n",
    "max_index = 0\n",
    "#find percentage of vote for each candidate and the winner\n",
    "for count in range(len(candidates)):\n",
    "    vote_percentage = vote_counts[count]/num_votes*100\n",
    "    percentages.append(vote_percentage)\n",
    "    if vote_counts[count] > max_votes:\n",
    "        max_votes = vote_counts[count]\n",
    "        print(max_votes)\n",
    "        max_index = count\n",
    "winner = candidates[max_index]\n",
    "\n",
    "#print results\n",
    "print(\"Election Results\")\n",
    "print(\"--------------------------\")\n",
    "print(f\"Total Votes: {num_votes}\")\n",
    "for count in range(len(candidates)):\n",
    "    print(f\"{candidates[count]}: {percentages[count]}% ({vote_counts[count]})\")\n",
    "print(\"---------------------------\")\n",
    "print(f\"Winner: {winner}\")\n",
    "print(\"---------------------------\")\n"
   ]
  },
  {
   "cell_type": "code",
   "execution_count": 30,
   "metadata": {},
   "outputs": [],
   "source": [
    "file = open(\"Pypoll_Output.txt\",\"w\")\n",
    "file.write(\"Election Results\\n\")\n",
    "file.write(\"--------------------------\\n\")\n",
    "file.write(f\"Total Votes: {num_votes}\\n\")\n",
    "for count in range(len(candidates)):\n",
    "    file.write(f\"{candidates[count]}: {percentages[count]}% ({vote_counts[count]})\\n\")\n",
    "file.write(\"---------------------------\\n\")\n",
    "file.write(f\"Winner: {winner}\\n\")\n",
    "file.write(\"---------------------------\\n\")\n",
    "file.close()\n"
   ]
  },
  {
   "cell_type": "code",
   "execution_count": null,
   "metadata": {},
   "outputs": [],
   "source": []
  }
 ],
 "metadata": {
  "kernelspec": {
   "display_name": "Python 3",
   "language": "python",
   "name": "python3"
  },
  "language_info": {
   "codemirror_mode": {
    "name": "ipython",
    "version": 3
   },
   "file_extension": ".py",
   "mimetype": "text/x-python",
   "name": "python",
   "nbconvert_exporter": "python",
   "pygments_lexer": "ipython3",
   "version": "3.7.4"
  }
 },
 "nbformat": 4,
 "nbformat_minor": 2
}
