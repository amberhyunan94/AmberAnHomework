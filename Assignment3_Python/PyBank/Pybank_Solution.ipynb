{
 "cells": [
  {
   "cell_type": "code",
   "execution_count": 23,
   "metadata": {},
   "outputs": [
    {
     "name": "stdout",
     "output_type": "stream",
     "text": [
      "Header: Date,Profit/Losses\n",
      "\n",
      "Financial Analysis\n",
      "....................................................................................\n",
      "total months: 86\n",
      "Total: $38382578\n",
      "Average change: $-2315.1176470588234\n",
      "Greatest Increase in Profits: Feb-2012 $1926159\n",
      "Greatest Decrease in Profits: Sep-2013 $-2196167\n"
     ]
    }
   ],
   "source": [
    "import os\n",
    "import csv\n",
    "\n",
    "# read file with delimiter\n",
    "budget_data = os.path.join(\"Resources\", \"budget_data.csv\")\n",
    "with open(budget_data, 'r') as csvfile:\n",
    "    readcsv = csv.reader(csvfile, delimiter=',')\n",
    "# skip header\n",
    "    header = next(csvfile)\n",
    "    print(f\"Header: {header}\")\n",
    "# creating lists for number of months, profit/losses\n",
    "    net_amount = []\n",
    "    months = []\n",
    "    monthly_changes = []\n",
    "    for row in readcsv:\n",
    "        net_amount.append(int(row[1]))\n",
    "        months.append(row[0])\n",
    "    for i in range(1,len(net_amount)):\n",
    "        monthly_changes.append((int(net_amount[i])-int(net_amount[i-1])))\n",
    "# answers to questions in homework\n",
    "    avg_monthly_changes = sum(monthly_changes)/len(monthly_changes)\n",
    "    total_number_months = len(months)\n",
    "    greatest_increase = max(monthly_changes)\n",
    "    greatest_decrease = min(monthly_changes)\n",
    "# printing asnwers\n",
    "    print(\"Financial Analysis\")\n",
    "\n",
    "    print(\"....................................................................................\")\n",
    "\n",
    "    print(\"total months: \" + str(total_number_months))\n",
    "\n",
    "    print(\"Total: \" + \"$\" + str(sum(net_amount)))\n",
    "\n",
    "    print(\"Average change: \" + \"$\" + str(avg_monthly_changes))\n",
    "\n",
    "    print(\"Greatest Increase in Profits: \" + str(months[monthly_changes.index(max(monthly_changes))+1]) + \" \" + \"$\" + str(greatest_increase))\n",
    "\n",
    "    print(\"Greatest Decrease in Profits: \" + str(months[monthly_changes.index(min(monthly_changes))+1]) + \" \" + \"$\" + str(greatest_decrease))\n",
    "    \n",
    "    "
   ]
  },
  {
   "cell_type": "code",
   "execution_count": 26,
   "metadata": {},
   "outputs": [],
   "source": [
    "# output to a text file\n",
    "file = open(\"Pybank_Output.txt\",\"w\")\n",
    "\n",
    "file.write(\"Financial Analysis\" + \"\\n\")\n",
    "\n",
    "file.write(\"....................................................................................\" + \"\\n\")\n",
    "\n",
    "file.write(\"total months: \" + str(total_number_months) + \"\\n\")\n",
    "\n",
    "file.write(\"Total: \" + \"$\" + str(sum(net_amount)) + \"\\n\")\n",
    "\n",
    "file.write(\"Average change: \" + \"$\" + str(avg_monthly_changes) + \"\\n\")\n",
    "\n",
    "file.write(\"Greatest Increase in Profits: \" + str(months[monthly_changes.index(max(monthly_changes))+1]) + \" \" + \"$\" + str(greatest_increase) + \"\\n\")\n",
    "\n",
    "file.write(\"Greatest Decrease in Profits: \" + str(months[monthly_changes.index(min(monthly_changes))+1]) + \" \" + \"$\" + str(greatest_decrease) + \"\\n\")\n",
    "\n",
    "file.close()\n",
    "\n"
   ]
  }
 ],
 "metadata": {
  "kernelspec": {
   "display_name": "Python 3",
   "language": "python",
   "name": "python3"
  },
  "language_info": {
   "codemirror_mode": {
    "name": "ipython",
    "version": 3
   },
   "file_extension": ".py",
   "mimetype": "text/x-python",
   "name": "python",
   "nbconvert_exporter": "python",
   "pygments_lexer": "ipython3",
   "version": "3.7.4"
  }
 },
 "nbformat": 4,
 "nbformat_minor": 2
}
